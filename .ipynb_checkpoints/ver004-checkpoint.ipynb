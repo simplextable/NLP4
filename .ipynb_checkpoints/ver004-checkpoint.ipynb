{
 "cells": [
  {
   "cell_type": "markdown",
   "metadata": {
    "colab_type": "text",
    "id": "cMBYouk3IUsO"
   },
   "source": [
    "Bu versiyondaa Glove Kütüphanesi ile denenicek"
   ]
  },
  {
   "cell_type": "code",
   "execution_count": 1,
   "metadata": {
    "colab": {
     "base_uri": "https://localhost:8080/",
     "height": 34
    },
    "colab_type": "code",
    "executionInfo": {
     "elapsed": 2648,
     "status": "ok",
     "timestamp": 1592735124903,
     "user": {
      "displayName": "Gitti Memurluk",
      "photoUrl": "https://lh3.googleusercontent.com/a-/AOh14Gi0SZS_e7M6D1DTXMhg58poQDybVlLVAaYZoOoq=s64",
      "userId": "15171960339512340441"
     },
     "user_tz": -180
    },
    "id": "2X2H0adUIUsP",
    "outputId": "7d99ef45-d3d3-44e5-82a1-5fed83e6d731"
   },
   "outputs": [
    {
     "name": "stderr",
     "output_type": "stream",
     "text": [
      "Using TensorFlow backend.\n"
     ]
    }
   ],
   "source": [
    "import pandas as pd \n",
    "import matplotlib.pyplot as plt\n",
    "import seaborn as sns\n",
    "import numpy as np\n",
    "from nltk.corpus import stopwords\n",
    "from nltk.util import ngrams\n",
    "from collections import defaultdict\n",
    "from collections import  Counter\n",
    "\n",
    "import re\n",
    "from nltk.tokenize import word_tokenize\n",
    "import gensim\n",
    "import string\n",
    "from keras.preprocessing.text import Tokenizer\n",
    "from keras.preprocessing.sequence import pad_sequences\n",
    "from keras.models import Sequential\n",
    "from keras.layers import Embedding,LSTM,Dense,SpatialDropout1D\n",
    "from keras.initializers import Constant\n",
    "from sklearn.model_selection import train_test_split\n",
    "from keras.optimizers import Adam\n",
    "from sklearn.model_selection import cross_val_score\n",
    "from sklearn.metrics import confusion_matrix\n",
    "\n",
    "\n",
    "pd.set_option('display.max_rows', 5000000)\n",
    "pd.set_option('display.max_columns', 5000000)\n",
    "pd.set_option('display.width', 10000000)\n",
    "pd.set_option('display.max_colwidth', 4000)"
   ]
  },
  {
   "cell_type": "code",
   "execution_count": 1,
   "metadata": {
    "colab": {
     "base_uri": "https://localhost:8080/",
     "height": 121
    },
    "colab_type": "code",
    "executionInfo": {
     "elapsed": 35087,
     "status": "ok",
     "timestamp": 1592735085293,
     "user": {
      "displayName": "Gitti Memurluk",
      "photoUrl": "https://lh3.googleusercontent.com/a-/AOh14Gi0SZS_e7M6D1DTXMhg58poQDybVlLVAaYZoOoq=s64",
      "userId": "15171960339512340441"
     },
     "user_tz": -180
    },
    "id": "bA3wuXR7Z8sV",
    "outputId": "c5403b16-b3ba-4202-9c73-df2c4d547ea9"
   },
   "outputs": [
    {
     "name": "stdout",
     "output_type": "stream",
     "text": [
      "Go to this URL in a browser: https://accounts.google.com/o/oauth2/auth?client_id=947318989803-6bn6qk8qdgf4n4g3pfee6491hc0brc4i.apps.googleusercontent.com&redirect_uri=urn%3aietf%3awg%3aoauth%3a2.0%3aoob&response_type=code&scope=email%20https%3a%2f%2fwww.googleapis.com%2fauth%2fdocs.test%20https%3a%2f%2fwww.googleapis.com%2fauth%2fdrive%20https%3a%2f%2fwww.googleapis.com%2fauth%2fdrive.photos.readonly%20https%3a%2f%2fwww.googleapis.com%2fauth%2fpeopleapi.readonly\n",
      "\n",
      "Enter your authorization code:\n",
      "··········\n",
      "Mounted at /content/drive\n"
     ]
    }
   ],
   "source": [
    "from google.colab import drive\n",
    "drive.mount('/content/drive')"
   ]
  },
  {
   "cell_type": "code",
   "execution_count": 5,
   "metadata": {
    "colab": {},
    "colab_type": "code",
    "executionInfo": {
     "elapsed": 1240,
     "status": "ok",
     "timestamp": 1592735272926,
     "user": {
      "displayName": "Gitti Memurluk",
      "photoUrl": "https://lh3.googleusercontent.com/a-/AOh14Gi0SZS_e7M6D1DTXMhg58poQDybVlLVAaYZoOoq=s64",
      "userId": "15171960339512340441"
     },
     "user_tz": -180
    },
    "id": "Cj_jjjAdIUsV"
   },
   "outputs": [],
   "source": [
    "train = pd.read_csv('drive/My Drive/Colab Notebooks/NLP/tweetter-Analit/train.csv')\n",
    "test = pd.read_csv('drive/My Drive/Colab Notebooks/NLP/tweetter-Analit/test.csv')\n",
    "sub = pd.read_csv('drive/My Drive/Colab Notebooks/NLP/tweetter-Analit/sample.csv')\n",
    "target = pd.read_csv('drive/My Drive/Colab Notebooks/NLP/tweetter-Analit/train.csv')\n",
    "\n",
    "df=pd.concat([train,test])\n",
    "df.drop([\"label\", \"id\"],axis=1,inplace=True)"
   ]
  },
  {
   "cell_type": "code",
   "execution_count": 6,
   "metadata": {
    "colab": {},
    "colab_type": "code",
    "executionInfo": {
     "elapsed": 737,
     "status": "ok",
     "timestamp": 1592735278297,
     "user": {
      "displayName": "Gitti Memurluk",
      "photoUrl": "https://lh3.googleusercontent.com/a-/AOh14Gi0SZS_e7M6D1DTXMhg58poQDybVlLVAaYZoOoq=s64",
      "userId": "15171960339512340441"
     },
     "user_tz": -180
    },
    "id": "ke9x9iObIUsZ"
   },
   "outputs": [],
   "source": [
    "# @ ile başlayan kelimelerin hepsini dopladık\n",
    "\n",
    "def remove_pattern(input_txt, pattern):\n",
    "    r = re.findall(pattern, input_txt)\n",
    "    for i in r:\n",
    "        input_txt = re.sub(i, '', input_txt)\n",
    "    return input_txt    \n",
    "\n",
    "df['tweet'] = np.vectorize(remove_pattern)(df['tweet'], \"@[\\w]*\")"
   ]
  },
  {
   "cell_type": "code",
   "execution_count": 7,
   "metadata": {
    "colab": {},
    "colab_type": "code",
    "executionInfo": {
     "elapsed": 804,
     "status": "ok",
     "timestamp": 1592735280824,
     "user": {
      "displayName": "Gitti Memurluk",
      "photoUrl": "https://lh3.googleusercontent.com/a-/AOh14Gi0SZS_e7M6D1DTXMhg58poQDybVlLVAaYZoOoq=s64",
      "userId": "15171960339512340441"
     },
     "user_tz": -180
    },
    "id": "QmqgWRJMIUsc"
   },
   "outputs": [],
   "source": [
    "def remove_emoji(text):\n",
    "    emoji_pattern = re.compile(\"[\"\n",
    "                           u\"\\U0001F600-\\U0001F64F\"  # emoticons\n",
    "                           u\"\\U0001F300-\\U0001F5FF\"  # symbols & pictographs\n",
    "                           u\"\\U0001F680-\\U0001F6FF\"  # transport & map symbols\n",
    "                           u\"\\U0001F1E0-\\U0001F1FF\"  # flags (iOS)\n",
    "                           u\"\\U00002702-\\U000027B0\"\n",
    "                           u\"\\U000024C2-\\U0001F251\"\n",
    "                           \"]+\", flags=re.UNICODE)\n",
    "    return emoji_pattern.sub(r'', text)"
   ]
  },
  {
   "cell_type": "code",
   "execution_count": 8,
   "metadata": {
    "colab": {},
    "colab_type": "code",
    "executionInfo": {
     "elapsed": 665,
     "status": "ok",
     "timestamp": 1592735282947,
     "user": {
      "displayName": "Gitti Memurluk",
      "photoUrl": "https://lh3.googleusercontent.com/a-/AOh14Gi0SZS_e7M6D1DTXMhg58poQDybVlLVAaYZoOoq=s64",
      "userId": "15171960339512340441"
     },
     "user_tz": -180
    },
    "id": "nT0jAiK1IUsg"
   },
   "outputs": [],
   "source": [
    "def remove_punct(text):\n",
    "    table=str.maketrans('','',string.punctuation)\n",
    "    return text.translate(table)"
   ]
  },
  {
   "cell_type": "code",
   "execution_count": 9,
   "metadata": {
    "colab": {},
    "colab_type": "code",
    "executionInfo": {
     "elapsed": 850,
     "status": "ok",
     "timestamp": 1592735284695,
     "user": {
      "displayName": "Gitti Memurluk",
      "photoUrl": "https://lh3.googleusercontent.com/a-/AOh14Gi0SZS_e7M6D1DTXMhg58poQDybVlLVAaYZoOoq=s64",
      "userId": "15171960339512340441"
     },
     "user_tz": -180
    },
    "id": "z6-Se71zIUsk"
   },
   "outputs": [],
   "source": [
    "def remove_URL(text):\n",
    "    url = re.compile(r'https?://\\S+|www\\.\\S+')\n",
    "    \n",
    "    return url.sub(r'',text)"
   ]
  },
  {
   "cell_type": "code",
   "execution_count": 10,
   "metadata": {
    "colab": {},
    "colab_type": "code",
    "executionInfo": {
     "elapsed": 842,
     "status": "ok",
     "timestamp": 1592735286847,
     "user": {
      "displayName": "Gitti Memurluk",
      "photoUrl": "https://lh3.googleusercontent.com/a-/AOh14Gi0SZS_e7M6D1DTXMhg58poQDybVlLVAaYZoOoq=s64",
      "userId": "15171960339512340441"
     },
     "user_tz": -180
    },
    "id": "H9SUz6aNIUsn"
   },
   "outputs": [],
   "source": [
    "df['tweet']=df['tweet'].apply(lambda x: remove_emoji(x))"
   ]
  },
  {
   "cell_type": "code",
   "execution_count": 11,
   "metadata": {
    "colab": {},
    "colab_type": "code",
    "executionInfo": {
     "elapsed": 829,
     "status": "ok",
     "timestamp": 1592735288450,
     "user": {
      "displayName": "Gitti Memurluk",
      "photoUrl": "https://lh3.googleusercontent.com/a-/AOh14Gi0SZS_e7M6D1DTXMhg58poQDybVlLVAaYZoOoq=s64",
      "userId": "15171960339512340441"
     },
     "user_tz": -180
    },
    "id": "XfzvGfeaIUsr"
   },
   "outputs": [],
   "source": [
    "df['tweet']=df['tweet'].apply(lambda x : remove_punct(x))"
   ]
  },
  {
   "cell_type": "code",
   "execution_count": 12,
   "metadata": {
    "colab": {},
    "colab_type": "code",
    "executionInfo": {
     "elapsed": 651,
     "status": "ok",
     "timestamp": 1592735290235,
     "user": {
      "displayName": "Gitti Memurluk",
      "photoUrl": "https://lh3.googleusercontent.com/a-/AOh14Gi0SZS_e7M6D1DTXMhg58poQDybVlLVAaYZoOoq=s64",
      "userId": "15171960339512340441"
     },
     "user_tz": -180
    },
    "id": "e22pZA3VIUsv"
   },
   "outputs": [],
   "source": [
    "df['tweet']=df['tweet'].apply(lambda x : remove_URL(x))"
   ]
  },
  {
   "cell_type": "code",
   "execution_count": 13,
   "metadata": {
    "colab": {},
    "colab_type": "code",
    "executionInfo": {
     "elapsed": 687,
     "status": "ok",
     "timestamp": 1592735291824,
     "user": {
      "displayName": "Gitti Memurluk",
      "photoUrl": "https://lh3.googleusercontent.com/a-/AOh14Gi0SZS_e7M6D1DTXMhg58poQDybVlLVAaYZoOoq=s64",
      "userId": "15171960339512340441"
     },
     "user_tz": -180
    },
    "id": "l4ouaenbIUsy"
   },
   "outputs": [],
   "source": [
    "df[\"tweet\"]=df[\"tweet\"].str.replace(\"[^A-Za-z]\",\" \")"
   ]
  },
  {
   "cell_type": "code",
   "execution_count": 14,
   "metadata": {
    "colab": {},
    "colab_type": "code",
    "executionInfo": {
     "elapsed": 794,
     "status": "ok",
     "timestamp": 1592735294017,
     "user": {
      "displayName": "Gitti Memurluk",
      "photoUrl": "https://lh3.googleusercontent.com/a-/AOh14Gi0SZS_e7M6D1DTXMhg58poQDybVlLVAaYZoOoq=s64",
      "userId": "15171960339512340441"
     },
     "user_tz": -180
    },
    "id": "athoySjBIUs1"
   },
   "outputs": [],
   "source": [
    "df[\"tweet\"] = df[\"tweet\"].str.replace(r\"\\b[a-zA-Z]\\b\", \"\")"
   ]
  },
  {
   "cell_type": "code",
   "execution_count": 16,
   "metadata": {
    "colab": {
     "base_uri": "https://localhost:8080/",
     "height": 50
    },
    "colab_type": "code",
    "executionInfo": {
     "elapsed": 2080,
     "status": "ok",
     "timestamp": 1592735301677,
     "user": {
      "displayName": "Gitti Memurluk",
      "photoUrl": "https://lh3.googleusercontent.com/a-/AOh14Gi0SZS_e7M6D1DTXMhg58poQDybVlLVAaYZoOoq=s64",
      "userId": "15171960339512340441"
     },
     "user_tz": -180
    },
    "id": "ozH48xSxIUs4",
    "outputId": "c9ccb9c8-bebf-4018-bd9a-6541e64f08c5"
   },
   "outputs": [
    {
     "name": "stdout",
     "output_type": "stream",
     "text": [
      "[nltk_data] Downloading package stopwords to /root/nltk_data...\n",
      "[nltk_data]   Unzipping corpora/stopwords.zip.\n"
     ]
    }
   ],
   "source": [
    "import nltk\n",
    "nltk.download('stopwords')\n",
    "from nltk.corpus import stopwords\n",
    "sw = stopwords.words('english')\n",
    "df['tweet'] = df['tweet'].apply(lambda x: \" \".join(x for x in x.split() if x not in sw))"
   ]
  },
  {
   "cell_type": "code",
   "execution_count": 18,
   "metadata": {
    "colab": {
     "base_uri": "https://localhost:8080/",
     "height": 50
    },
    "colab_type": "code",
    "executionInfo": {
     "elapsed": 5387,
     "status": "ok",
     "timestamp": 1592735315307,
     "user": {
      "displayName": "Gitti Memurluk",
      "photoUrl": "https://lh3.googleusercontent.com/a-/AOh14Gi0SZS_e7M6D1DTXMhg58poQDybVlLVAaYZoOoq=s64",
      "userId": "15171960339512340441"
     },
     "user_tz": -180
    },
    "id": "xlrOsttCIUs8",
    "outputId": "e514e042-0882-4dd5-ab68-422f9525de19"
   },
   "outputs": [
    {
     "name": "stdout",
     "output_type": "stream",
     "text": [
      "[nltk_data] Downloading package wordnet to /root/nltk_data...\n",
      "[nltk_data]   Unzipping corpora/wordnet.zip.\n"
     ]
    }
   ],
   "source": [
    "from textblob import Word\n",
    "nltk.download('wordnet')\n",
    "df['tweet'] = df['tweet'].apply(lambda x: \" \".join([Word(word).lemmatize() for word in x.split()])) "
   ]
  },
  {
   "cell_type": "code",
   "execution_count": 19,
   "metadata": {
    "colab": {},
    "colab_type": "code",
    "executionInfo": {
     "elapsed": 1359,
     "status": "ok",
     "timestamp": 1592735321924,
     "user": {
      "displayName": "Gitti Memurluk",
      "photoUrl": "https://lh3.googleusercontent.com/a-/AOh14Gi0SZS_e7M6D1DTXMhg58poQDybVlLVAaYZoOoq=s64",
      "userId": "15171960339512340441"
     },
     "user_tz": -180
    },
    "id": "v0NVHDg0IUs-"
   },
   "outputs": [],
   "source": [
    "sil = pd.Series(' '.join(df['tweet']).split()).value_counts()[-39000:]\n",
    "df['tweet'] = df['tweet'].apply(lambda x: \" \".join(x for x in x.split() if x not in sil))"
   ]
  },
  {
   "cell_type": "code",
   "execution_count": 28,
   "metadata": {
    "colab": {},
    "colab_type": "code",
    "executionInfo": {
     "elapsed": 897,
     "status": "ok",
     "timestamp": 1592735721026,
     "user": {
      "displayName": "Gitti Memurluk",
      "photoUrl": "https://lh3.googleusercontent.com/a-/AOh14Gi0SZS_e7M6D1DTXMhg58poQDybVlLVAaYZoOoq=s64",
      "userId": "15171960339512340441"
     },
     "user_tz": -180
    },
    "id": "Qq3IRi2kIUtB"
   },
   "outputs": [],
   "source": [
    "stop=set(stopwords.words('english'))\n",
    "\n",
    "def create_corpus(df):\n",
    "    corpus=[]\n",
    "    for tweet in tqdm(df['tweet']):\n",
    "        words=[word.lower() for word in word_tokenize(tweet) if((word.isalpha()==1) & (word not in stop))]\n",
    "        corpus.append(words)\n",
    "    return corpus"
   ]
  },
  {
   "cell_type": "code",
   "execution_count": 29,
   "metadata": {
    "colab": {
     "base_uri": "https://localhost:8080/",
     "height": 34
    },
    "colab_type": "code",
    "executionInfo": {
     "elapsed": 5811,
     "status": "ok",
     "timestamp": 1592735729384,
     "user": {
      "displayName": "Gitti Memurluk",
      "photoUrl": "https://lh3.googleusercontent.com/a-/AOh14Gi0SZS_e7M6D1DTXMhg58poQDybVlLVAaYZoOoq=s64",
      "userId": "15171960339512340441"
     },
     "user_tz": -180
    },
    "id": "H8eWg5LsIUtE",
    "outputId": "2a516b20-c6cf-4304-d076-e80124d0956f"
   },
   "outputs": [
    {
     "name": "stderr",
     "output_type": "stream",
     "text": [
      "100%|██████████| 49159/49159 [00:05<00:00, 9433.66it/s]\n"
     ]
    }
   ],
   "source": [
    "from tqdm import tqdm\n",
    "\n",
    "corpus=create_corpus(df)"
   ]
  },
  {
   "cell_type": "code",
   "execution_count": 30,
   "metadata": {
    "colab": {},
    "colab_type": "code",
    "executionInfo": {
     "elapsed": 14281,
     "status": "ok",
     "timestamp": 1592735769888,
     "user": {
      "displayName": "Gitti Memurluk",
      "photoUrl": "https://lh3.googleusercontent.com/a-/AOh14Gi0SZS_e7M6D1DTXMhg58poQDybVlLVAaYZoOoq=s64",
      "userId": "15171960339512340441"
     },
     "user_tz": -180
    },
    "id": "-8l-DLkIIUtK"
   },
   "outputs": [],
   "source": [
    "embedding_dict={}\n",
    "with open('drive/My Drive/Colab Notebooks/NLP/tweetter-Analit/glove.6B.100d.txt','r',encoding=\"utf8\") as f:\n",
    "    for line in f:\n",
    "        values=line.split()\n",
    "        word=values[0]\n",
    "        vectors=np.asarray(values[1:],'float32')\n",
    "        embedding_dict[word]=vectors\n",
    "    f.close()"
   ]
  },
  {
   "cell_type": "code",
   "execution_count": 31,
   "metadata": {
    "colab": {},
    "colab_type": "code",
    "executionInfo": {
     "elapsed": 1349,
     "status": "ok",
     "timestamp": 1592735774682,
     "user": {
      "displayName": "Gitti Memurluk",
      "photoUrl": "https://lh3.googleusercontent.com/a-/AOh14Gi0SZS_e7M6D1DTXMhg58poQDybVlLVAaYZoOoq=s64",
      "userId": "15171960339512340441"
     },
     "user_tz": -180
    },
    "id": "v8Tne6ctIUtN"
   },
   "outputs": [],
   "source": [
    "MAX_LEN=50\n",
    "tokenizer_obj=Tokenizer()\n",
    "tokenizer_obj.fit_on_texts(corpus)\n",
    "sequences=tokenizer_obj.texts_to_sequences(corpus)\n",
    "\n",
    "tweet_pad=pad_sequences(sequences,maxlen=MAX_LEN,truncating='post',padding='post')"
   ]
  },
  {
   "cell_type": "code",
   "execution_count": 32,
   "metadata": {
    "colab": {
     "base_uri": "https://localhost:8080/",
     "height": 134
    },
    "colab_type": "code",
    "executionInfo": {
     "elapsed": 789,
     "status": "ok",
     "timestamp": 1592735776721,
     "user": {
      "displayName": "Gitti Memurluk",
      "photoUrl": "https://lh3.googleusercontent.com/a-/AOh14Gi0SZS_e7M6D1DTXMhg58poQDybVlLVAaYZoOoq=s64",
      "userId": "15171960339512340441"
     },
     "user_tz": -180
    },
    "id": "NkRklM44IUtQ",
    "outputId": "a0e5e394-8676-4b13-c59c-516bc69a0f47"
   },
   "outputs": [
    {
     "data": {
      "text/plain": [
       "array([[  13, 3170, 4442, ...,    0,    0,    0],\n",
       "       [  92, 5911, 1952, ...,    0,    0,    0],\n",
       "       [  17, 2703,    0, ...,    0,    0,    0],\n",
       "       ...,\n",
       "       [ 676,    9,    4, ...,    0,    0,    0],\n",
       "       [   3,   28,  317, ...,    0,    0,    0],\n",
       "       [ 237,  703,  105, ...,    0,    0,    0]], dtype=int32)"
      ]
     },
     "execution_count": 32,
     "metadata": {
      "tags": []
     },
     "output_type": "execute_result"
    }
   ],
   "source": [
    "tweet_pad"
   ]
  },
  {
   "cell_type": "code",
   "execution_count": 33,
   "metadata": {
    "colab": {
     "base_uri": "https://localhost:8080/",
     "height": 34
    },
    "colab_type": "code",
    "executionInfo": {
     "elapsed": 704,
     "status": "ok",
     "timestamp": 1592735779903,
     "user": {
      "displayName": "Gitti Memurluk",
      "photoUrl": "https://lh3.googleusercontent.com/a-/AOh14Gi0SZS_e7M6D1DTXMhg58poQDybVlLVAaYZoOoq=s64",
      "userId": "15171960339512340441"
     },
     "user_tz": -180
    },
    "id": "s0fEEnNcIUtX",
    "outputId": "cbbd1140-4a0b-4033-bc02-9889d6e77087"
   },
   "outputs": [
    {
     "name": "stdout",
     "output_type": "stream",
     "text": [
      "Number of unique words: 9794\n"
     ]
    }
   ],
   "source": [
    "word_index=tokenizer_obj.word_index\n",
    "print('Number of unique words:',len(word_index))"
   ]
  },
  {
   "cell_type": "code",
   "execution_count": 34,
   "metadata": {
    "colab": {
     "base_uri": "https://localhost:8080/",
     "height": 34
    },
    "colab_type": "code",
    "executionInfo": {
     "elapsed": 880,
     "status": "ok",
     "timestamp": 1592735783564,
     "user": {
      "displayName": "Gitti Memurluk",
      "photoUrl": "https://lh3.googleusercontent.com/a-/AOh14Gi0SZS_e7M6D1DTXMhg58poQDybVlLVAaYZoOoq=s64",
      "userId": "15171960339512340441"
     },
     "user_tz": -180
    },
    "id": "cuHMNx1NIUta",
    "outputId": "64fd6be7-5cc5-4629-9ab1-02f536aefee9"
   },
   "outputs": [
    {
     "name": "stderr",
     "output_type": "stream",
     "text": [
      "100%|██████████| 9794/9794 [00:00<00:00, 395599.13it/s]\n"
     ]
    }
   ],
   "source": [
    "num_words=len(word_index)+1\n",
    "embedding_matrix=np.zeros((num_words,100))\n",
    "\n",
    "for word,i in tqdm(word_index.items()):\n",
    "    if i > num_words:\n",
    "        continue\n",
    "    \n",
    "    emb_vec=embedding_dict.get(word)\n",
    "    if emb_vec is not None:\n",
    "        embedding_matrix[i]=emb_vec"
   ]
  },
  {
   "cell_type": "code",
   "execution_count": 35,
   "metadata": {
    "colab": {
     "base_uri": "https://localhost:8080/",
     "height": 34
    },
    "colab_type": "code",
    "executionInfo": {
     "elapsed": 805,
     "status": "ok",
     "timestamp": 1592735786719,
     "user": {
      "displayName": "Gitti Memurluk",
      "photoUrl": "https://lh3.googleusercontent.com/a-/AOh14Gi0SZS_e7M6D1DTXMhg58poQDybVlLVAaYZoOoq=s64",
      "userId": "15171960339512340441"
     },
     "user_tz": -180
    },
    "id": "3CzgRsLjIUtd",
    "outputId": "27806438-2219-4359-e3b4-3338701202a1"
   },
   "outputs": [
    {
     "data": {
      "text/plain": [
       "(9795, 100)"
      ]
     },
     "execution_count": 35,
     "metadata": {
      "tags": []
     },
     "output_type": "execute_result"
    }
   ],
   "source": [
    "np.shape(embedding_matrix)"
   ]
  },
  {
   "cell_type": "code",
   "execution_count": 53,
   "metadata": {
    "colab": {},
    "colab_type": "code",
    "executionInfo": {
     "elapsed": 837,
     "status": "ok",
     "timestamp": 1592737135213,
     "user": {
      "displayName": "Gitti Memurluk",
      "photoUrl": "https://lh3.googleusercontent.com/a-/AOh14Gi0SZS_e7M6D1DTXMhg58poQDybVlLVAaYZoOoq=s64",
      "userId": "15171960339512340441"
     },
     "user_tz": -180
    },
    "id": "S4mMXd8AIUtg"
   },
   "outputs": [],
   "source": [
    "# Weight Oluşrma\n",
    "\n",
    "no_claim_count, claim_count = np.bincount(target.label)\n",
    "total_count = len(target.label)\n",
    "weight_no_claim = (1 / no_claim_count) * (total_count) / 2.0\n",
    "weight_claim = (1 / claim_count) * (total_count) / 2.0\n",
    "class_weights = {0: weight_no_claim, 1: weight_claim}"
   ]
  },
  {
   "cell_type": "code",
   "execution_count": 73,
   "metadata": {
    "colab": {
     "base_uri": "https://localhost:8080/",
     "height": 34
    },
    "colab_type": "code",
    "executionInfo": {
     "elapsed": 762,
     "status": "ok",
     "timestamp": 1592741940742,
     "user": {
      "displayName": "Gitti Memurluk",
      "photoUrl": "https://lh3.googleusercontent.com/a-/AOh14Gi0SZS_e7M6D1DTXMhg58poQDybVlLVAaYZoOoq=s64",
      "userId": "15171960339512340441"
     },
     "user_tz": -180
    },
    "id": "Ro7Q1Sin0O0-",
    "outputId": "368c28d0-ef20-4335-c315-0984eca4e09d"
   },
   "outputs": [
    {
     "data": {
      "text/plain": [
       "0.5377187079407806"
      ]
     },
     "execution_count": 73,
     "metadata": {
      "tags": []
     },
     "output_type": "execute_result"
    }
   ],
   "source": [
    "weight_no_claim"
   ]
  },
  {
   "cell_type": "code",
   "execution_count": 69,
   "metadata": {
    "colab": {},
    "colab_type": "code",
    "executionInfo": {
     "elapsed": 790,
     "status": "ok",
     "timestamp": 1592741511899,
     "user": {
      "displayName": "Gitti Memurluk",
      "photoUrl": "https://lh3.googleusercontent.com/a-/AOh14Gi0SZS_e7M6D1DTXMhg58poQDybVlLVAaYZoOoq=s64",
      "userId": "15171960339512340441"
     },
     "user_tz": -180
    },
    "id": "fFy_sBQDyNDH"
   },
   "outputs": [],
   "source": [
    "class_weight = {1: 0.88,\n",
    "                0: 0.12}"
   ]
  },
  {
   "cell_type": "code",
   "execution_count": 65,
   "metadata": {
    "colab": {},
    "colab_type": "code",
    "executionInfo": {
     "elapsed": 1125,
     "status": "ok",
     "timestamp": 1592741442909,
     "user": {
      "displayName": "Gitti Memurluk",
      "photoUrl": "https://lh3.googleusercontent.com/a-/AOh14Gi0SZS_e7M6D1DTXMhg58poQDybVlLVAaYZoOoq=s64",
      "userId": "15171960339512340441"
     },
     "user_tz": -180
    },
    "id": "YILqtpigIUtj"
   },
   "outputs": [],
   "source": [
    "import tensorflow as tf\n",
    "from tensorflow import keras\n",
    "from keras import backend as K\n",
    "def recall_m(y_true, y_pred):\n",
    "    true_positives = K.sum(K.round(K.clip(y_true * y_pred, 0, 1)))\n",
    "    possible_positives = K.sum(K.round(K.clip(y_true, 0, 1)))\n",
    "    recall = true_positives / (possible_positives + K.epsilon())\n",
    "    return recall\n",
    "\n",
    "def precision_m(y_true, y_pred):\n",
    "    true_positives = K.sum(K.round(K.clip(y_true * y_pred, 0, 1)))\n",
    "    predicted_positives = K.sum(K.round(K.clip(y_pred, 0, 1)))\n",
    "    precision = true_positives / (predicted_positives + K.epsilon())\n",
    "    return precision\n",
    "def f1_m(y_true, y_pred):\n",
    "    precision = precision_m(y_true, y_pred)\n",
    "    recall = recall_m(y_true, y_pred)\n",
    "    return 2*((precision*recall)/(precision+recall+K.epsilon()))\n",
    "\n",
    "\n",
    "model=Sequential()\n",
    "\n",
    "embedding=Embedding(num_words,100,embeddings_initializer=Constant(embedding_matrix),\n",
    "                   input_length=MAX_LEN,trainable=False)\n",
    "\n",
    "model.add(embedding)\n",
    "model.add(SpatialDropout1D(0.2))\n",
    "model.add(LSTM(64, dropout=0.2, recurrent_dropout=0.2))\n",
    "model.add(Dense(1, activation='sigmoid'))\n",
    "\n",
    "\n",
    "optimzer=Adam(learning_rate=1e-5)\n",
    "\n",
    "model.compile(loss='binary_crossentropy',optimizer=optimzer,metrics=['accuracy',tf.metrics.Recall(),tf.metrics.Precision(),f1_m])"
   ]
  },
  {
   "cell_type": "code",
   "execution_count": 66,
   "metadata": {
    "colab": {},
    "colab_type": "code",
    "executionInfo": {
     "elapsed": 930,
     "status": "ok",
     "timestamp": 1592741445611,
     "user": {
      "displayName": "Gitti Memurluk",
      "photoUrl": "https://lh3.googleusercontent.com/a-/AOh14Gi0SZS_e7M6D1DTXMhg58poQDybVlLVAaYZoOoq=s64",
      "userId": "15171960339512340441"
     },
     "user_tz": -180
    },
    "id": "nXrqdFgWIUto"
   },
   "outputs": [],
   "source": [
    "train=tweet_pad[:train.shape[0]]\n",
    "test=tweet_pad[train.shape[0]:]"
   ]
  },
  {
   "cell_type": "code",
   "execution_count": 67,
   "metadata": {
    "colab": {
     "base_uri": "https://localhost:8080/",
     "height": 50
    },
    "colab_type": "code",
    "executionInfo": {
     "elapsed": 795,
     "status": "ok",
     "timestamp": 1592741449190,
     "user": {
      "displayName": "Gitti Memurluk",
      "photoUrl": "https://lh3.googleusercontent.com/a-/AOh14Gi0SZS_e7M6D1DTXMhg58poQDybVlLVAaYZoOoq=s64",
      "userId": "15171960339512340441"
     },
     "user_tz": -180
    },
    "id": "4HTr0G8CIUts",
    "outputId": "dae85563-aade-4bac-97ce-1516f351b83e"
   },
   "outputs": [
    {
     "name": "stdout",
     "output_type": "stream",
     "text": [
      "Shape of train (22373, 50)\n",
      "Shape of Validation  (9589, 50)\n"
     ]
    }
   ],
   "source": [
    "X_train,X_test,y_train,y_test=train_test_split(train,target['label'].values,test_size=0.30)\n",
    "print('Shape of train',X_train.shape)\n",
    "print(\"Shape of Validation \",X_test.shape)"
   ]
  },
  {
   "cell_type": "code",
   "execution_count": 70,
   "metadata": {
    "colab": {
     "base_uri": "https://localhost:8080/",
     "height": 457
    },
    "colab_type": "code",
    "executionInfo": {
     "elapsed": 334391,
     "status": "ok",
     "timestamp": 1592741860384,
     "user": {
      "displayName": "Gitti Memurluk",
      "photoUrl": "https://lh3.googleusercontent.com/a-/AOh14Gi0SZS_e7M6D1DTXMhg58poQDybVlLVAaYZoOoq=s64",
      "userId": "15171960339512340441"
     },
     "user_tz": -180
    },
    "id": "5A4lP2aTIUtw",
    "outputId": "f51500a0-6846-497a-b4c3-cc6a7caf24fe"
   },
   "outputs": [
    {
     "name": "stdout",
     "output_type": "stream",
     "text": [
      "Train on 22373 samples, validate on 9589 samples\n",
      "Epoch 1/12\n",
      " - 28s - loss: 0.1805 - accuracy: 0.9271 - recall_5: 0.0226 - precision_5: 0.0751 - f1_m: 0.0018 - val_loss: 0.2927 - val_accuracy: 0.9292 - val_recall_5: 0.0032 - val_precision_5: 0.0750 - val_f1_m: 0.0000e+00\n",
      "Epoch 2/12\n",
      " - 27s - loss: 0.1388 - accuracy: 0.9301 - recall_5: 0.0020 - precision_5: 0.0750 - f1_m: 0.0000e+00 - val_loss: 0.2692 - val_accuracy: 0.9292 - val_recall_5: 0.0014 - val_precision_5: 0.0750 - val_f1_m: 0.0000e+00\n",
      "Epoch 3/12\n",
      " - 27s - loss: 0.1310 - accuracy: 0.9299 - recall_5: 0.0015 - precision_5: 0.0901 - f1_m: 0.0077 - val_loss: 0.2414 - val_accuracy: 0.9292 - val_recall_5: 0.0030 - val_precision_5: 0.1704 - val_f1_m: 0.0011\n",
      "Epoch 4/12\n",
      " - 28s - loss: 0.1224 - accuracy: 0.9235 - recall_5: 0.0130 - precision_5: 0.2936 - f1_m: 0.1356 - val_loss: 0.2172 - val_accuracy: 0.9337 - val_recall_5: 0.0369 - val_precision_5: 0.3821 - val_f1_m: 0.2678\n",
      "Epoch 5/12\n",
      " - 28s - loss: 0.1189 - accuracy: 0.9090 - recall_5: 0.0617 - precision_5: 0.3798 - f1_m: 0.2361 - val_loss: 0.2091 - val_accuracy: 0.9323 - val_recall_5: 0.0883 - val_precision_5: 0.3762 - val_f1_m: 0.3525\n",
      "Epoch 6/12\n",
      " - 28s - loss: 0.1150 - accuracy: 0.9074 - recall_5: 0.1101 - precision_5: 0.3762 - f1_m: 0.2754 - val_loss: 0.2067 - val_accuracy: 0.9306 - val_recall_5: 0.1344 - val_precision_5: 0.3798 - val_f1_m: 0.3885\n",
      "Epoch 7/12\n",
      " - 28s - loss: 0.1148 - accuracy: 0.9028 - recall_5: 0.1518 - precision_5: 0.3767 - f1_m: 0.2676 - val_loss: 0.2047 - val_accuracy: 0.9313 - val_recall_5: 0.1684 - val_precision_5: 0.3758 - val_f1_m: 0.3937\n",
      "Epoch 8/12\n",
      " - 28s - loss: 0.1111 - accuracy: 0.9074 - recall_5: 0.1827 - precision_5: 0.3776 - f1_m: 0.3168 - val_loss: 0.2056 - val_accuracy: 0.9283 - val_recall_5: 0.1989 - val_precision_5: 0.3798 - val_f1_m: 0.4284\n",
      "Epoch 9/12\n",
      " - 28s - loss: 0.1102 - accuracy: 0.9017 - recall_5: 0.2130 - precision_5: 0.3796 - f1_m: 0.3135 - val_loss: 0.2013 - val_accuracy: 0.9311 - val_recall_5: 0.2260 - val_precision_5: 0.3795 - val_f1_m: 0.4266\n",
      "Epoch 10/12\n",
      " - 28s - loss: 0.1099 - accuracy: 0.8993 - recall_5: 0.2367 - precision_5: 0.3791 - f1_m: 0.3096 - val_loss: 0.2041 - val_accuracy: 0.9262 - val_recall_5: 0.2479 - val_precision_5: 0.3776 - val_f1_m: 0.4304\n",
      "Epoch 11/12\n",
      " - 28s - loss: 0.1072 - accuracy: 0.8990 - recall_5: 0.2580 - precision_5: 0.3770 - f1_m: 0.3125 - val_loss: 0.2011 - val_accuracy: 0.9295 - val_recall_5: 0.2666 - val_precision_5: 0.3764 - val_f1_m: 0.4352\n",
      "Epoch 12/12\n",
      " - 28s - loss: 0.1079 - accuracy: 0.9070 - recall_5: 0.2740 - precision_5: 0.3775 - f1_m: 0.3245 - val_loss: 0.1981 - val_accuracy: 0.9299 - val_recall_5: 0.2817 - val_precision_5: 0.3792 - val_f1_m: 0.4275\n"
     ]
    }
   ],
   "source": [
    "history=model.fit(X_train,y_train,batch_size=32,epochs=12,validation_data=(X_test,y_test),verbose=2,class_weight=class_weight)"
   ]
  },
  {
   "cell_type": "code",
   "execution_count": 74,
   "metadata": {
    "colab": {},
    "colab_type": "code",
    "executionInfo": {
     "elapsed": 3519,
     "status": "ok",
     "timestamp": 1592741974153,
     "user": {
      "displayName": "Gitti Memurluk",
      "photoUrl": "https://lh3.googleusercontent.com/a-/AOh14Gi0SZS_e7M6D1DTXMhg58poQDybVlLVAaYZoOoq=s64",
      "userId": "15171960339512340441"
     },
     "user_tz": -180
    },
    "id": "NKutMvLaIUtz"
   },
   "outputs": [],
   "source": [
    "predictions = model.predict_classes(X_test)"
   ]
  },
  {
   "cell_type": "code",
   "execution_count": 45,
   "metadata": {
    "colab": {},
    "colab_type": "code",
    "executionInfo": {
     "elapsed": 849,
     "status": "ok",
     "timestamp": 1592736696163,
     "user": {
      "displayName": "Gitti Memurluk",
      "photoUrl": "https://lh3.googleusercontent.com/a-/AOh14Gi0SZS_e7M6D1DTXMhg58poQDybVlLVAaYZoOoq=s64",
      "userId": "15171960339512340441"
     },
     "user_tz": -180
    },
    "id": "48CN0Wv4IUt1"
   },
   "outputs": [],
   "source": [
    "from sklearn.metrics import classification_report,confusion_matrix\n",
    "import matplotlib.pyplot as plt\n",
    "import seaborn as sns\n",
    "import matplotlib.pyplot as plt\n",
    "\n",
    "def plot_cm(y_true, y_pred, title, figsize=(5,4)):\n",
    "    cm = confusion_matrix(y_true, y_pred, labels=np.unique(y_true))\n",
    "    cm_sum = np.sum(cm, axis=1, keepdims=True)\n",
    "    cm_perc = cm / cm_sum.astype(float) * 100\n",
    "    annot = np.empty_like(cm).astype(str)\n",
    "    nrows, ncols = cm.shape\n",
    "    for i in range(nrows):\n",
    "        for j in range(ncols):\n",
    "            c = cm[i, j]\n",
    "            p = cm_perc[i, j]\n",
    "            if i == j:\n",
    "                s = cm_sum[i]\n",
    "                annot[i, j] = '%.1f%%\\n%d/%d' % (p, c, s)\n",
    "            elif c == 0:\n",
    "                annot[i, j] = ''\n",
    "            else:\n",
    "                annot[i, j] = '%.1f%%\\n%d' % (p, c)\n",
    "    cm = pd.DataFrame(cm, index=np.unique(y_true), columns=np.unique(y_true))\n",
    "    cm.index.name = 'Actual'\n",
    "    cm.columns.name = 'Predicted'\n",
    "    fig, ax = plt.subplots(figsize=figsize)\n",
    "    plt.title(title)\n",
    "    sns.heatmap(cm, cmap= \"YlGnBu\", annot=annot, fmt='', ax=ax)"
   ]
  },
  {
   "cell_type": "code",
   "execution_count": 75,
   "metadata": {
    "colab": {
     "base_uri": "https://localhost:8080/",
     "height": 350
    },
    "colab_type": "code",
    "executionInfo": {
     "elapsed": 846,
     "status": "ok",
     "timestamp": 1592741978474,
     "user": {
      "displayName": "Gitti Memurluk",
      "photoUrl": "https://lh3.googleusercontent.com/a-/AOh14Gi0SZS_e7M6D1DTXMhg58poQDybVlLVAaYZoOoq=s64",
      "userId": "15171960339512340441"
     },
     "user_tz": -180
    },
    "id": "svwu-6J-IUt-",
    "outputId": "eb7283b2-fbd4-4fb9-e05d-26eed10a91a1"
   },
   "outputs": [
    {
     "data": {
      "image/png": "[encoded data removed]",
      "text/plain": [
       "<Figure size 360x360 with 2 Axes>"
      ]
     },
     "metadata": {
      "needs_background": "light",
      "tags": []
     },
     "output_type": "display_data"
    }
   ],
   "source": [
    "plot_cm(y_test,predictions, 'Confution matrix of Tweets', figsize=(5,5))"
   ]
  },
  {
   "cell_type": "code",
   "execution_count": 59,
   "metadata": {
    "colab": {
     "base_uri": "https://localhost:8080/",
     "height": 350
    },
    "colab_type": "code",
    "executionInfo": {
     "elapsed": 1018,
     "status": "ok",
     "timestamp": 1592737750021,
     "user": {
      "displayName": "Gitti Memurluk",
      "photoUrl": "https://lh3.googleusercontent.com/a-/AOh14Gi0SZS_e7M6D1DTXMhg58poQDybVlLVAaYZoOoq=s64",
      "userId": "15171960339512340441"
     },
     "user_tz": -180
    },
    "id": "R_Iztsk5kUMk",
    "outputId": "7a550961-15af-4c5d-fec4-2354aa488e52"
   },
   "outputs": [
    {
     "data": {
      "image/png": "[encoded data removed]",
      "text/plain": [
       "<Figure size 360x360 with 2 Axes>"
      ]
     },
     "metadata": {
      "needs_background": "light",
      "tags": []
     },
     "output_type": "display_data"
    }
   ],
   "source": [
    "plot_cm(y_test,predictions, 'Confution matrix of Tweets', figsize=(5,5))"
   ]
  },
  {
   "cell_type": "code",
   "execution_count": 76,
   "metadata": {
    "colab": {},
    "colab_type": "code",
    "executionInfo": {
     "elapsed": 5691,
     "status": "ok",
     "timestamp": 1592742014378,
     "user": {
      "displayName": "Gitti Memurluk",
      "photoUrl": "https://lh3.googleusercontent.com/a-/AOh14Gi0SZS_e7M6D1DTXMhg58poQDybVlLVAaYZoOoq=s64",
      "userId": "15171960339512340441"
     },
     "user_tz": -180
    },
    "id": "MQ2hYVYAIUuC"
   },
   "outputs": [],
   "source": [
    "y_pred3 = model.predict_classes(test)"
   ]
  },
  {
   "cell_type": "code",
   "execution_count": 77,
   "metadata": {
    "colab": {},
    "colab_type": "code",
    "executionInfo": {
     "elapsed": 785,
     "status": "ok",
     "timestamp": 1592742017513,
     "user": {
      "displayName": "Gitti Memurluk",
      "photoUrl": "https://lh3.googleusercontent.com/a-/AOh14Gi0SZS_e7M6D1DTXMhg58poQDybVlLVAaYZoOoq=s64",
      "userId": "15171960339512340441"
     },
     "user_tz": -180
    },
    "id": "lhN8KTr3IUuF"
   },
   "outputs": [],
   "source": [
    "sonuc = pd.DataFrame(data = y_pred3, index = range(17197), columns=[\"label\"] )"
   ]
  },
  {
   "cell_type": "code",
   "execution_count": 50,
   "metadata": {
    "colab": {},
    "colab_type": "code",
    "executionInfo": {
     "elapsed": 833,
     "status": "ok",
     "timestamp": 1592736923185,
     "user": {
      "displayName": "Gitti Memurluk",
      "photoUrl": "https://lh3.googleusercontent.com/a-/AOh14Gi0SZS_e7M6D1DTXMhg58poQDybVlLVAaYZoOoq=s64",
      "userId": "15171960339512340441"
     },
     "user_tz": -180
    },
    "id": "vawc7z7VIUuI"
   },
   "outputs": [],
   "source": [
    "\n",
    "id = sub[[\"id\"]]"
   ]
  },
  {
   "cell_type": "code",
   "execution_count": 78,
   "metadata": {
    "colab": {},
    "colab_type": "code",
    "executionInfo": {
     "elapsed": 783,
     "status": "ok",
     "timestamp": 1592742025521,
     "user": {
      "displayName": "Gitti Memurluk",
      "photoUrl": "https://lh3.googleusercontent.com/a-/AOh14Gi0SZS_e7M6D1DTXMhg58poQDybVlLVAaYZoOoq=s64",
      "userId": "15171960339512340441"
     },
     "user_tz": -180
    },
    "id": "XXSihyfbIUuL"
   },
   "outputs": [],
   "source": [
    "s2= pd.concat([id,sonuc],axis=1)\n",
    "s2.to_csv('drive/My Drive/Colab Notebooks/NLP/tweetter-Analit/210620_6.csv',index=False)"
   ]
  },
  {
   "cell_type": "code",
   "execution_count": 52,
   "metadata": {
    "colab": {
     "base_uri": "https://localhost:8080/",
     "height": 195
    },
    "colab_type": "code",
    "executionInfo": {
     "elapsed": 811,
     "status": "ok",
     "timestamp": 1592736960070,
     "user": {
      "displayName": "Gitti Memurluk",
      "photoUrl": "https://lh3.googleusercontent.com/a-/AOh14Gi0SZS_e7M6D1DTXMhg58poQDybVlLVAaYZoOoq=s64",
      "userId": "15171960339512340441"
     },
     "user_tz": -180
    },
    "id": "N5rcVZR2IUuO",
    "outputId": "5cd93c3a-5166-4cb0-d75a-7b49713ec6b0"
   },
   "outputs": [
    {
     "data": {
      "text/html": [
       "<div>\n",
       "<style scoped>\n",
       "    .dataframe tbody tr th:only-of-type {\n",
       "        vertical-align: middle;\n",
       "    }\n",
       "\n",
       "    .dataframe tbody tr th {\n",
       "        vertical-align: top;\n",
       "    }\n",
       "\n",
       "    .dataframe thead th {\n",
       "        text-align: right;\n",
       "    }\n",
       "</style>\n",
       "<table border=\"1\" class=\"dataframe\">\n",
       "  <thead>\n",
       "    <tr style=\"text-align: right;\">\n",
       "      <th></th>\n",
       "      <th>id</th>\n",
       "      <th>label</th>\n",
       "    </tr>\n",
       "  </thead>\n",
       "  <tbody>\n",
       "    <tr>\n",
       "      <th>0</th>\n",
       "      <td>31963</td>\n",
       "      <td>0</td>\n",
       "    </tr>\n",
       "    <tr>\n",
       "      <th>1</th>\n",
       "      <td>31964</td>\n",
       "      <td>1</td>\n",
       "    </tr>\n",
       "    <tr>\n",
       "      <th>2</th>\n",
       "      <td>31965</td>\n",
       "      <td>0</td>\n",
       "    </tr>\n",
       "    <tr>\n",
       "      <th>3</th>\n",
       "      <td>31966</td>\n",
       "      <td>1</td>\n",
       "    </tr>\n",
       "    <tr>\n",
       "      <th>4</th>\n",
       "      <td>31967</td>\n",
       "      <td>0</td>\n",
       "    </tr>\n",
       "  </tbody>\n",
       "</table>\n",
       "</div>"
      ],
      "text/plain": [
       "      id  label\n",
       "0  31963      0\n",
       "1  31964      1\n",
       "2  31965      0\n",
       "3  31966      1\n",
       "4  31967      0"
      ]
     },
     "execution_count": 52,
     "metadata": {
      "tags": []
     },
     "output_type": "execute_result"
    }
   ],
   "source": [
    "s2.head()"
   ]
  },
  {
   "cell_type": "code",
   "execution_count": null,
   "metadata": {
    "colab": {},
    "colab_type": "code",
    "id": "aKr3t8DiIUuR",
    "outputId": "0365e106-fff2-455b-e6ca-d6d5f513bc60"
   },
   "outputs": [
    {
     "data": {
      "text/plain": [
       "array([[  13, 3170, 4442, ...,    0,    0,    0],\n",
       "       [  92, 5911, 1952, ...,    0,    0,    0],\n",
       "       [  17, 2703,    0, ...,    0,    0,    0],\n",
       "       ...,\n",
       "       [ 975,   65,  237, ...,    0,    0,    0],\n",
       "       [1720, 1455, 1867, ...,    0,    0,    0],\n",
       "       [ 104,   82,    0, ...,    0,    0,    0]])"
      ]
     },
     "execution_count": 90,
     "metadata": {
      "tags": []
     },
     "output_type": "execute_result"
    }
   ],
   "source": [
    "train"
   ]
  }
 ],
 "metadata": {
  "colab": {
   "name": "ver004.ipynb",
   "provenance": []
  },
  "kernelspec": {
   "display_name": "Python 3",
   "language": "python",
   "name": "python3"
  },
  "language_info": {
   "codemirror_mode": {
    "name": "ipython",
    "version": 3
   },
   "file_extension": ".py",
   "mimetype": "text/x-python",
   "name": "python",
   "nbconvert_exporter": "python",
   "pygments_lexer": "ipython3",
   "version": "3.7.4"
  }
 },
 "nbformat": 4,
 "nbformat_minor": 1
}
